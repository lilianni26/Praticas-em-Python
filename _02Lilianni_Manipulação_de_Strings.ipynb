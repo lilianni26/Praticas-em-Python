{
  "nbformat": 4,
  "nbformat_minor": 0,
  "metadata": {
    "colab": {
      "provenance": [],
      "include_colab_link": true
    },
    "kernelspec": {
      "name": "python3",
      "display_name": "Python 3"
    }
  },
  "cells": [
    {
      "cell_type": "markdown",
      "metadata": {
        "id": "view-in-github",
        "colab_type": "text"
      },
      "source": [
        "<a href=\"https://colab.research.google.com/github/lilianni26/Praticas-em-Python/blob/main/_02Lilianni_Manipula%C3%A7%C3%A3o_de_Strings.ipynb\" target=\"_parent\"><img src=\"https://colab.research.google.com/assets/colab-badge.svg\" alt=\"Open In Colab\"/></a>"
      ]
    },
    {
      "cell_type": "markdown",
      "source": [
        "Autor: Lilianni Nayara B. M <br>\n",
        "Data: 06/09/2024 <br>\n",
        "Código: Manipulação de strings"
      ],
      "metadata": {
        "id": "VQ21Na3WxRt0"
      }
    },
    {
      "cell_type": "markdown",
      "metadata": {
        "id": "eJbkoKIhVtuf"
      },
      "source": [
        "# Manipulação de strings"
      ]
    },
    {
      "cell_type": "code",
      "metadata": {
        "id": "TspZ9SRGqF1l",
        "colab": {
          "base_uri": "https://localhost:8080/"
        },
        "outputId": "848894c5-c896-40b6-a1b2-f13adfbc5769"
      },
      "source": [
        "a = 'casaco'\n",
        "print(a)"
      ],
      "execution_count": 1,
      "outputs": [
        {
          "output_type": "stream",
          "name": "stdout",
          "text": [
            "casaco\n"
          ]
        }
      ]
    },
    {
      "cell_type": "code",
      "metadata": {
        "id": "ECcuB0rPqNLV",
        "colab": {
          "base_uri": "https://localhost:8080/"
        },
        "outputId": "6f1c1e03-2856-484b-ad4d-b9bb4eb0a2b5"
      },
      "source": [
        "maiuscula = a.upper()\n",
        "print(maiuscula)"
      ],
      "execution_count": 2,
      "outputs": [
        {
          "output_type": "stream",
          "name": "stdout",
          "text": [
            "CASACO\n"
          ]
        }
      ]
    },
    {
      "cell_type": "code",
      "metadata": {
        "id": "Y7ew8u5nqa0s",
        "colab": {
          "base_uri": "https://localhost:8080/"
        },
        "outputId": "b7664194-231f-418f-88c8-d985a23eb148"
      },
      "source": [
        "minuscula = maiuscula.lower()\n",
        "print(minuscula)"
      ],
      "execution_count": 3,
      "outputs": [
        {
          "output_type": "stream",
          "name": "stdout",
          "text": [
            "casaco\n"
          ]
        }
      ]
    },
    {
      "cell_type": "code",
      "metadata": {
        "id": "_n4eG1K3qjIG",
        "colab": {
          "base_uri": "https://localhost:8080/"
        },
        "outputId": "26746609-a994-4fda-d48d-eecaca6d0ad0"
      },
      "source": [
        "capital = a.capitalize()\n",
        "print(capital)"
      ],
      "execution_count": 4,
      "outputs": [
        {
          "output_type": "stream",
          "name": "stdout",
          "text": [
            "Casaco\n"
          ]
        }
      ]
    },
    {
      "cell_type": "code",
      "metadata": {
        "id": "7cb8yYi_qukU",
        "colab": {
          "base_uri": "https://localhost:8080/"
        },
        "outputId": "1fed2ccf-b5af-4dbd-fba4-e8fb647adbc5"
      },
      "source": [
        "metade_palavra = a[0:6]\n",
        "print(metade_palavra)"
      ],
      "execution_count": 8,
      "outputs": [
        {
          "output_type": "stream",
          "name": "stdout",
          "text": [
            "casaco\n"
          ]
        }
      ]
    },
    {
      "cell_type": "code",
      "metadata": {
        "id": "M0zabxMJrIfI",
        "colab": {
          "base_uri": "https://localhost:8080/"
        },
        "outputId": "bf28fce7-af52-400d-a2e6-3e53e4f30a57"
      },
      "source": [
        "ultimas_letras = a[4:]\n",
        "print(ultimas_letras)"
      ],
      "execution_count": 9,
      "outputs": [
        {
          "output_type": "stream",
          "name": "stdout",
          "text": [
            "co\n"
          ]
        }
      ]
    },
    {
      "cell_type": "code",
      "metadata": {
        "id": "F4VyXvoWrT1y",
        "colab": {
          "base_uri": "https://localhost:8080/"
        },
        "outputId": "f9aa0bb5-403b-4d7d-f4b9-546b89ee862e"
      },
      "source": [
        "b = a.replace('aco', 'inha')\n",
        "print(a)\n",
        "print(b)"
      ],
      "execution_count": 7,
      "outputs": [
        {
          "output_type": "stream",
          "name": "stdout",
          "text": [
            "casaco\n",
            "casinha\n"
          ]
        }
      ]
    },
    {
      "cell_type": "code",
      "metadata": {
        "id": "wKLt-VwLrk8F",
        "colab": {
          "base_uri": "https://localhost:8080/"
        },
        "outputId": "465341b2-0590-465d-ebae-07f01514be2c"
      },
      "source": [
        "c = a.replace('o', 'a')\n",
        "print(c)"
      ],
      "execution_count": 10,
      "outputs": [
        {
          "output_type": "stream",
          "name": "stdout",
          "text": [
            "casaca\n"
          ]
        }
      ]
    },
    {
      "cell_type": "code",
      "metadata": {
        "id": "2k0QLQmirwVa",
        "colab": {
          "base_uri": "https://localhost:8080/"
        },
        "outputId": "65071f15-6356-4974-a2b9-436019c11d35"
      },
      "source": [
        "c.find('s')"
      ],
      "execution_count": 11,
      "outputs": [
        {
          "output_type": "execute_result",
          "data": {
            "text/plain": [
              "2"
            ]
          },
          "metadata": {},
          "execution_count": 11
        }
      ]
    },
    {
      "cell_type": "code",
      "metadata": {
        "id": "4NANRZUyr6Yu",
        "colab": {
          "base_uri": "https://localhost:8080/"
        },
        "outputId": "de595259-3d6b-4c60-855a-bb528337a52e"
      },
      "source": [
        "c.find('a')"
      ],
      "execution_count": 14,
      "outputs": [
        {
          "output_type": "execute_result",
          "data": {
            "text/plain": [
              "1"
            ]
          },
          "metadata": {},
          "execution_count": 14
        }
      ]
    },
    {
      "cell_type": "code",
      "metadata": {
        "id": "HKvr0t0Ar_gH",
        "colab": {
          "base_uri": "https://localhost:8080/"
        },
        "outputId": "c546eb76-1519-406b-a44d-ac0fa9d42c6a"
      },
      "source": [
        "c.find('b')"
      ],
      "execution_count": 13,
      "outputs": [
        {
          "output_type": "execute_result",
          "data": {
            "text/plain": [
              "-1"
            ]
          },
          "metadata": {},
          "execution_count": 13
        }
      ]
    },
    {
      "cell_type": "code",
      "metadata": {
        "id": "fdYqKZ0bsQoH",
        "colab": {
          "base_uri": "https://localhost:8080/"
        },
        "outputId": "b06db7f0-7a66-4bda-88bb-86c7add017cf"
      },
      "source": [
        "e = ' casaco '\n",
        "print(len(e))"
      ],
      "execution_count": 12,
      "outputs": [
        {
          "output_type": "stream",
          "name": "stdout",
          "text": [
            "8\n"
          ]
        }
      ]
    },
    {
      "cell_type": "code",
      "metadata": {
        "id": "Hk1OiifYsbwt",
        "colab": {
          "base_uri": "https://localhost:8080/"
        },
        "outputId": "14cda769-bab9-420f-8dca-0bd23c0fd083"
      },
      "source": [
        "f = e.strip()\n",
        "print(f)"
      ],
      "execution_count": 16,
      "outputs": [
        {
          "output_type": "stream",
          "name": "stdout",
          "text": [
            "casaco\n"
          ]
        }
      ]
    },
    {
      "cell_type": "code",
      "metadata": {
        "id": "Kalq5EZAsive",
        "colab": {
          "base_uri": "https://localhost:8080/"
        },
        "outputId": "cfd8577e-8091-48ee-fd63-c1eacc4e927e"
      },
      "source": [
        "print(len(f))"
      ],
      "execution_count": 17,
      "outputs": [
        {
          "output_type": "stream",
          "name": "stdout",
          "text": [
            "6\n"
          ]
        }
      ]
    },
    {
      "cell_type": "code",
      "metadata": {
        "id": "dAiQ-Tvvsq5w"
      },
      "source": [
        "n1 = 14\n",
        "n2 = 16"
      ],
      "execution_count": 18,
      "outputs": []
    },
    {
      "cell_type": "code",
      "metadata": {
        "id": "790k0NTEsuiq",
        "colab": {
          "base_uri": "https://localhost:8080/"
        },
        "outputId": "22bc2f74-9515-416e-e21c-53a1edc2b2be"
      },
      "source": [
        "print(f'Dividindo {n1} por {n2} o resultado é {n1/n2}')"
      ],
      "execution_count": 19,
      "outputs": [
        {
          "output_type": "stream",
          "name": "stdout",
          "text": [
            "Dividindo 14 por 16 o resultado é 0.875\n"
          ]
        }
      ]
    }
  ]
}