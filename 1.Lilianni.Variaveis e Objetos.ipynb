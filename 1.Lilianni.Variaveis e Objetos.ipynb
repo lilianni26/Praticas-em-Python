{
  "cells": [
    {
      "cell_type": "markdown",
      "metadata": {
        "id": "kgYfDu5t7HFh"
      },
      "source": [
        "# Práticas em Python\n",
        "Variáveis e Objetos"
      ]
    },
    {
      "cell_type": "code",
      "execution_count": null,
      "metadata": {
        "colab": {
          "base_uri": "https://localhost:8080/"
        },
        "id": "10o_qQJn7HFi",
        "outputId": "3cf657ae-61cf-4cf9-8d34-41709b651215"
      },
      "outputs": [
        {
          "output_type": "stream",
          "name": "stdout",
          "text": [
            "1\n",
            "3.13\n",
            "Python\n",
            "False\n"
          ]
        }
      ],
      "source": [
        "#Cria variável do tipo inteiro\n",
        "x = 1\n",
        "print(x)\n",
        "#Cria variável do tipo float\n",
        "y = 3.13\n",
        "print(y)\n",
        "#Cria variável do tipo string\n",
        "m = \"Python\"\n",
        "m = 'Python'\n",
        "print(m)\n",
        "#Cria variável do tipo lógica\n",
        "w = True\n",
        "y = False\n",
        "print(y)"
      ]
    },
    {
      "cell_type": "code",
      "execution_count": null,
      "metadata": {
        "colab": {
          "base_uri": "https://localhost:8080/"
        },
        "id": "SydHOP1F7HFj",
        "outputId": "4d3fc2fd-0cc5-4d4b-e3fd-448dd3916f0b"
      },
      "outputs": [
        {
          "output_type": "stream",
          "name": "stdout",
          "text": [
            "30.0\n"
          ]
        }
      ],
      "source": [
        "#calculadora\n",
        "x = 10\n",
        "y = 20\n",
        "z = 100\n",
        "w = (x + y) * z / 100\n",
        "print(w)"
      ]
    },
    {
      "cell_type": "code",
      "source": [
        "print(\"Vamos adiantar nossa sala\")"
      ],
      "metadata": {
        "colab": {
          "base_uri": "https://localhost:8080/"
        },
        "id": "g2GsO9SW7a-7",
        "outputId": "c7b91f0b-08a7-4be7-b939-239c4aea4b16"
      },
      "execution_count": null,
      "outputs": [
        {
          "output_type": "stream",
          "name": "stdout",
          "text": [
            "Vamos adiantar nossa sala\n"
          ]
        }
      ]
    },
    {
      "cell_type": "code",
      "execution_count": null,
      "metadata": {
        "id": "v61a_fxY7HFk"
      },
      "outputs": [],
      "source": [
        "#exibir texto no console\n",
        "print(\"Este texto será impresso no console\")\n",
        "print(x)\n",
        "print(\"Texto e duas variáveis: \", x ,\", \", z)"
      ]
    },
    {
      "cell_type": "code",
      "execution_count": null,
      "metadata": {
        "colab": {
          "base_uri": "https://localhost:8080/"
        },
        "id": "HMDNYGpR7HFk",
        "outputId": "d2c5f30d-6035-405a-9793-446855f77e8c"
      },
      "outputs": [
        {
          "output_type": "stream",
          "name": "stdout",
          "text": [
            "<class 'int'>\n",
            "<class 'str'>\n"
          ]
        }
      ],
      "source": [
        "#verificar tipo\n",
        "print(type(x))\n",
        "print(type(m))"
      ]
    },
    {
      "cell_type": "code",
      "execution_count": null,
      "metadata": {
        "id": "XHPTR0JP7HFk"
      },
      "outputs": [],
      "source": [
        "#entrada de dados\n",
        "print(\"Informe o valor: \")\n",
        "i = input()\n",
        "#mostra tipo string\n",
        "print(type(i))"
      ]
    },
    {
      "cell_type": "code",
      "execution_count": null,
      "metadata": {
        "id": "89dbF3rP7HFl"
      },
      "outputs": [],
      "source": [
        "#entrada de valor com msg separada e junto\n",
        "print(\"Informe o valor: \")\n",
        "i = input()\n",
        "# ou\n",
        "i = input(\"Informe o valor: \")"
      ]
    },
    {
      "cell_type": "code",
      "execution_count": null,
      "metadata": {
        "id": "vq1AAqT_7HFl"
      },
      "outputs": [],
      "source": [
        "#conversão de valores\n",
        "#para inteiro\n",
        "var = input(\"Informe o valor: \")\n",
        "print(type(var))\n",
        "var = int(var)\n",
        "print(type(var))"
      ]
    },
    {
      "cell_type": "code",
      "execution_count": null,
      "metadata": {
        "id": "zM7ND6I07HFm"
      },
      "outputs": [],
      "source": [
        "#para float\n",
        "var = input(\"Informe o valor: \")\n",
        "print(type(var))\n",
        "var = float(var)\n",
        "print(type(var))"
      ]
    },
    {
      "cell_type": "code",
      "execution_count": null,
      "metadata": {
        "id": "1deLQnro7HFm"
      },
      "outputs": [],
      "source": [
        "# Este texto é um comentário\n",
        "X = 10  # a partir daqui é um comentário"
      ]
    },
    {
      "cell_type": "code",
      "execution_count": null,
      "metadata": {
        "id": "wx5ZvpDE7HFn"
      },
      "outputs": [],
      "source": []
    }
  ],
  "metadata": {
    "kernelspec": {
      "display_name": "Python 3",
      "language": "python",
      "name": "python3"
    },
    "language_info": {
      "codemirror_mode": {
        "name": "ipython",
        "version": 3
      },
      "file_extension": ".py",
      "mimetype": "text/x-python",
      "name": "python",
      "nbconvert_exporter": "python",
      "pygments_lexer": "ipython3",
      "version": "3.7.6"
    },
    "colab": {
      "name": "1.Variaveis e Objetos.ipynb",
      "provenance": []
    }
  },
  "nbformat": 4,
  "nbformat_minor": 0
}